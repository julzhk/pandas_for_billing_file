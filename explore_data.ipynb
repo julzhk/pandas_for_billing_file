{
 "cells": [
  {
   "cell_type": "markdown",
   "metadata": {},
   "source": [
    "investigate data"
   ]
  },
  {
   "cell_type": "code",
   "execution_count": 47,
   "metadata": {},
   "outputs": [
    {
     "data": {
      "text/html": [
       "<div>\n",
       "<style scoped>\n",
       "    .dataframe tbody tr th:only-of-type {\n",
       "        vertical-align: middle;\n",
       "    }\n",
       "\n",
       "    .dataframe tbody tr th {\n",
       "        vertical-align: top;\n",
       "    }\n",
       "\n",
       "    .dataframe thead th {\n",
       "        text-align: right;\n",
       "    }\n",
       "</style>\n",
       "<table border=\"1\" class=\"dataframe\">\n",
       "  <thead>\n",
       "    <tr style=\"text-align: right;\">\n",
       "      <th></th>\n",
       "      <th>date</th>\n",
       "      <th>readings</th>\n",
       "    </tr>\n",
       "  </thead>\n",
       "  <tbody>\n",
       "    <tr>\n",
       "      <th>0</th>\n",
       "      <td>2017-03-28T00:00:00.000Z</td>\n",
       "      <td>17580</td>\n",
       "    </tr>\n",
       "    <tr>\n",
       "      <th>1</th>\n",
       "      <td>2017-04-15T00:00:00.000Z</td>\n",
       "      <td>17759</td>\n",
       "    </tr>\n",
       "    <tr>\n",
       "      <th>2</th>\n",
       "      <td>2017-05-08T00:00:00.000Z</td>\n",
       "      <td>18002</td>\n",
       "    </tr>\n",
       "    <tr>\n",
       "      <th>3</th>\n",
       "      <td>2017-06-18T00:00:00.000Z</td>\n",
       "      <td>18270</td>\n",
       "    </tr>\n",
       "    <tr>\n",
       "      <th>4</th>\n",
       "      <td>2017-07-31T00:00:00.000Z</td>\n",
       "      <td>18453</td>\n",
       "    </tr>\n",
       "    <tr>\n",
       "      <th>5</th>\n",
       "      <td>2017-08-31T00:00:00.000Z</td>\n",
       "      <td>18620</td>\n",
       "    </tr>\n",
       "    <tr>\n",
       "      <th>6</th>\n",
       "      <td>2017-09-10T00:00:00.000Z</td>\n",
       "      <td>18682</td>\n",
       "    </tr>\n",
       "    <tr>\n",
       "      <th>7</th>\n",
       "      <td>2017-10-27T00:00:00.000Z</td>\n",
       "      <td>18905</td>\n",
       "    </tr>\n",
       "    <tr>\n",
       "      <th>8</th>\n",
       "      <td>2017-11-04T00:00:00.000Z</td>\n",
       "      <td>19150</td>\n",
       "    </tr>\n",
       "    <tr>\n",
       "      <th>9</th>\n",
       "      <td>2017-12-31T00:00:00.000Z</td>\n",
       "      <td>19517</td>\n",
       "    </tr>\n",
       "    <tr>\n",
       "      <th>10</th>\n",
       "      <td>2018-01-23T00:00:00.000Z</td>\n",
       "      <td>19757</td>\n",
       "    </tr>\n",
       "    <tr>\n",
       "      <th>11</th>\n",
       "      <td>2018-02-19T00:00:00.000Z</td>\n",
       "      <td>20090</td>\n",
       "    </tr>\n",
       "    <tr>\n",
       "      <th>12</th>\n",
       "      <td>2018-03-14T00:00:00.000Z</td>\n",
       "      <td>20276</td>\n",
       "    </tr>\n",
       "    <tr>\n",
       "      <th>13</th>\n",
       "      <td>2018-04-29T00:00:00.000Z</td>\n",
       "      <td>20600</td>\n",
       "    </tr>\n",
       "  </tbody>\n",
       "</table>\n",
       "</div>"
      ],
      "text/plain": [
       "                        date  readings\n",
       "0   2017-03-28T00:00:00.000Z     17580\n",
       "1   2017-04-15T00:00:00.000Z     17759\n",
       "2   2017-05-08T00:00:00.000Z     18002\n",
       "3   2017-06-18T00:00:00.000Z     18270\n",
       "4   2017-07-31T00:00:00.000Z     18453\n",
       "5   2017-08-31T00:00:00.000Z     18620\n",
       "6   2017-09-10T00:00:00.000Z     18682\n",
       "7   2017-10-27T00:00:00.000Z     18905\n",
       "8   2017-11-04T00:00:00.000Z     19150\n",
       "9   2017-12-31T00:00:00.000Z     19517\n",
       "10  2018-01-23T00:00:00.000Z     19757\n",
       "11  2018-02-19T00:00:00.000Z     20090\n",
       "12  2018-03-14T00:00:00.000Z     20276\n",
       "13  2018-04-29T00:00:00.000Z     20600"
      ]
     },
     "execution_count": 47,
     "metadata": {},
     "output_type": "execute_result"
    }
   ],
   "source": [
    "from load_readings import get_readings\n",
    "import pandas as pd\n",
    "from datetime import date\n",
    "from dateutil import parser\n",
    "\n",
    "raw_electric_data = get_readings()['member-123'][0]['account-abc'][0]['electricity']\n",
    "electric_data = [[reading['readingDate'],reading['cumulative']] for reading in raw_electric_data]\n",
    "electric_df = pd.DataFrame(electric_data, columns=[\"date\", \"readings\"])\n",
    "electric_df.set_index(\"date\", drop = False)\n",
    "electric_df"
   ]
  },
  {
   "cell_type": "code",
   "execution_count": 104,
   "metadata": {},
   "outputs": [
    {
     "data": {
      "text/plain": [
       "167"
      ]
     },
     "execution_count": 104,
     "metadata": {},
     "output_type": "execute_result"
    }
   ],
   "source": [
    "FROM_PERIOD, TO_PERIOD = 4, 5\n",
    "# bill_date='2017-08-31'\n",
    "units_consumed = readings[TO_PERIOD] - readings[FROM_PERIOD]\n",
    "fromdate, todate = parser.parse(electric_df['date'][FROM_PERIOD]) , parser.parse(electric_df['date'][TO_PERIOD])\n",
    "assert(units_consumed == 167)\n",
    "units_consumed"
   ]
  },
  {
   "cell_type": "code",
   "execution_count": 20,
   "metadata": {},
   "outputs": [
    {
     "data": {
      "text/plain": [
       "(11.949, 24.56)"
      ]
     },
     "execution_count": 20,
     "metadata": {},
     "output_type": "execute_result"
    }
   ],
   "source": [
    "from tariff import BULB_TARIFF\n",
    "rate = BULB_TARIFF['electricity']['unit_rate'] # pence per kWh\n",
    "standing = BULB_TARIFF['electricity']['standing_charge'] # daily charge / pence\n",
    "rate, standing"
   ]
  },
  {
   "cell_type": "code",
   "execution_count": 66,
   "metadata": {},
   "outputs": [
    {
     "data": {
      "text/plain": [
       "1995.483"
      ]
     },
     "execution_count": 66,
     "metadata": {},
     "output_type": "execute_result"
    }
   ],
   "source": [
    "energy_cost = units_consumed * rate\n",
    "energy_cost"
   ]
  },
  {
   "cell_type": "code",
   "execution_count": 106,
   "metadata": {},
   "outputs": [
    {
     "data": {
      "text/plain": [
       "(31, 761.36)"
      ]
     },
     "execution_count": 106,
     "metadata": {},
     "output_type": "execute_result"
    }
   ],
   "source": [
    "days_charged = (todate - fromdate).days\n",
    "standing_cost = days_charged * standing\n",
    "days_charged, standing_cost"
   ]
  },
  {
   "cell_type": "code",
   "execution_count": 116,
   "metadata": {},
   "outputs": [
    {
     "data": {
      "text/plain": [
       "27.57"
      ]
     },
     "execution_count": 116,
     "metadata": {},
     "output_type": "execute_result"
    }
   ],
   "source": [
    "# 2757 p\n",
    "bill = round(((standing_cost + energy_cost)/100),2)\n",
    "assert (bill == 27.57)\n",
    "bill"
   ]
  },
  {
   "cell_type": "code",
   "execution_count": null,
   "metadata": {},
   "outputs": [],
   "source": []
  }
 ],
 "metadata": {
  "kernelspec": {
   "display_name": "Python 3",
   "language": "python",
   "name": "python3"
  },
  "language_info": {
   "codemirror_mode": {
    "name": "ipython",
    "version": 3
   },
   "file_extension": ".py",
   "mimetype": "text/x-python",
   "name": "python",
   "nbconvert_exporter": "python",
   "pygments_lexer": "ipython3",
   "version": "3.7.6"
  }
 },
 "nbformat": 4,
 "nbformat_minor": 4
}
