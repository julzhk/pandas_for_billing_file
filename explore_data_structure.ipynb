{
 "cells": [
  {
   "cell_type": "code",
   "execution_count": 34,
   "metadata": {},
   "outputs": [
    {
     "name": "stdout",
     "output_type": "stream",
     "text": [
      "member-123\n",
      "0 account-abc\n",
      "gas\n",
      "{'cumulative': 17580, 'readingDate': '2017-03-28T00:00:00.000Z', 'unit': 'kWh', 'account_id': 'account-abc', 'member_id': 'member-123'}\n",
      "{'cumulative': 17759, 'readingDate': '2017-04-15T00:00:00.000Z', 'unit': 'kWh', 'account_id': 'account-abc', 'member_id': 'member-123'}\n",
      "{'cumulative': 18002, 'readingDate': '2017-05-08T00:00:00.000Z', 'unit': 'kWh', 'account_id': 'account-abc', 'member_id': 'member-123'}\n",
      "{'cumulative': 18270, 'readingDate': '2017-06-18T00:00:00.000Z', 'unit': 'kWh', 'account_id': 'account-abc', 'member_id': 'member-123'}\n",
      "{'cumulative': 18453, 'readingDate': '2017-07-31T00:00:00.000Z', 'unit': 'kWh', 'account_id': 'account-abc', 'member_id': 'member-123'}\n",
      "{'cumulative': 18620, 'readingDate': '2017-08-31T00:00:00.000Z', 'unit': 'kWh', 'account_id': 'account-abc', 'member_id': 'member-123'}\n",
      "{'cumulative': 18682, 'readingDate': '2017-09-10T00:00:00.000Z', 'unit': 'kWh', 'account_id': 'account-abc', 'member_id': 'member-123'}\n",
      "{'cumulative': 18905, 'readingDate': '2017-10-27T00:00:00.000Z', 'unit': 'kWh', 'account_id': 'account-abc', 'member_id': 'member-123'}\n",
      "{'cumulative': 19150, 'readingDate': '2017-11-04T00:00:00.000Z', 'unit': 'kWh', 'account_id': 'account-abc', 'member_id': 'member-123'}\n",
      "{'cumulative': 19517, 'readingDate': '2017-12-31T00:00:00.000Z', 'unit': 'kWh', 'account_id': 'account-abc', 'member_id': 'member-123'}\n",
      "{'cumulative': 19757, 'readingDate': '2018-01-23T00:00:00.000Z', 'unit': 'kWh', 'account_id': 'account-abc', 'member_id': 'member-123'}\n",
      "{'cumulative': 20090, 'readingDate': '2018-02-19T00:00:00.000Z', 'unit': 'kWh', 'account_id': 'account-abc', 'member_id': 'member-123'}\n",
      "{'cumulative': 20276, 'readingDate': '2018-03-14T00:00:00.000Z', 'unit': 'kWh', 'account_id': 'account-abc', 'member_id': 'member-123'}\n",
      "{'cumulative': 20600, 'readingDate': '2018-04-29T00:00:00.000Z', 'unit': 'kWh', 'account_id': 'account-abc', 'member_id': 'member-123'}\n"
     ]
    }
   ],
   "source": [
    "from load_readings import get_readings\n",
    "data = get_readings()\n",
    "for member_id in data:\n",
    "    print(member_id)\n",
    "    for accounts in data[member_id]:\n",
    "        for account_count, account_id in enumerate(accounts):\n",
    "            print(account_count, account_id)\n",
    "            for reading_count, reading_data in enumerate(data[member_id][account_count][account_id]):\n",
    "                for reading_type_count, reading_type in enumerate(reading_data):\n",
    "                    print(reading_type)\n",
    "                    for reading in (reading_data[reading_type]):\n",
    "                        reading['account_id'] = account_id\n",
    "                        reading['member_id'] = member_id\n",
    "                        print(reading)\n"
   ]
  },
  {
   "cell_type": "code",
   "execution_count": null,
   "metadata": {},
   "outputs": [],
   "source": []
  },
  {
   "cell_type": "code",
   "execution_count": null,
   "metadata": {},
   "outputs": [],
   "source": []
  }
 ],
 "metadata": {
  "kernelspec": {
   "display_name": "Python 3",
   "language": "python",
   "name": "python3"
  },
  "language_info": {
   "codemirror_mode": {
    "name": "ipython",
    "version": 3
   },
   "file_extension": ".py",
   "mimetype": "text/x-python",
   "name": "python",
   "nbconvert_exporter": "python",
   "pygments_lexer": "ipython3",
   "version": "3.7.6"
  }
 },
 "nbformat": 4,
 "nbformat_minor": 4
}
